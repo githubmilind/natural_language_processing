{
 "cells": [
  {
   "cell_type": "markdown",
   "id": "bed29fce",
   "metadata": {},
   "source": [
    "https://www.geeksforgeeks.org/python-measure-similarity-between-two-sentences-using-cosine-similarity/"
   ]
  },
  {
   "cell_type": "code",
   "execution_count": 2,
   "id": "86b42e7d",
   "metadata": {},
   "outputs": [],
   "source": [
    "# Program to measure the similarity between \n",
    "# two sentences using cosine similarity.\n",
    "from nltk.corpus import stopwords\n",
    "from nltk.tokenize import word_tokenize"
   ]
  },
  {
   "cell_type": "code",
   "execution_count": 41,
   "id": "4e05a13f",
   "metadata": {},
   "outputs": [],
   "source": [
    "# X = input(\"Enter first string: \").lower()\n",
    "# Y = input(\"Enter second string: \").lower()\n",
    "X =\"I do not like horror movies\"\n",
    "Y =\"I like horror movies\""
   ]
  },
  {
   "cell_type": "code",
   "execution_count": 42,
   "id": "5c4220a4",
   "metadata": {},
   "outputs": [],
   "source": [
    "# tokenization\n",
    "X_list = word_tokenize(X) \n",
    "Y_list = word_tokenize(Y)"
   ]
  },
  {
   "cell_type": "code",
   "execution_count": 43,
   "id": "71c44cf9",
   "metadata": {},
   "outputs": [],
   "source": [
    "# sw contains the list of stopwords\n",
    "sw = stopwords.words('english') \n",
    "l1 =[];l2 =[]"
   ]
  },
  {
   "cell_type": "code",
   "execution_count": 44,
   "id": "79b234e7",
   "metadata": {},
   "outputs": [],
   "source": [
    "# remove stop words from the string\n",
    "X_set = {w for w in X_list if not w in sw} \n",
    "Y_set = {w for w in Y_list if not w in sw}\n",
    "  "
   ]
  },
  {
   "cell_type": "code",
   "execution_count": 45,
   "id": "76841dda",
   "metadata": {},
   "outputs": [],
   "source": [
    "# form a set containing keywords of both strings \n",
    "rvector = X_set.union(Y_set) \n",
    "for w in rvector:\n",
    "    if w in X_set: l1.append(1) # create a vector\n",
    "    else: l1.append(0)\n",
    "    if w in Y_set: l2.append(1)\n",
    "    else: l2.append(0)\n",
    "c = 0"
   ]
  },
  {
   "cell_type": "code",
   "execution_count": 46,
   "id": "aa313a2b",
   "metadata": {},
   "outputs": [
    {
     "name": "stdout",
     "output_type": "stream",
     "text": [
      "similarity:  1.0\n"
     ]
    }
   ],
   "source": [
    "# cosine formula \n",
    "for i in range(len(rvector)):\n",
    "        c+= l1[i]*l2[i]\n",
    "cosine = c / float((sum(l1)*sum(l2))**0.5)\n",
    "print(\"similarity: \", cosine)"
   ]
  }
 ],
 "metadata": {
  "kernelspec": {
   "display_name": "Python 3",
   "language": "python",
   "name": "python3"
  },
  "language_info": {
   "codemirror_mode": {
    "name": "ipython",
    "version": 3
   },
   "file_extension": ".py",
   "mimetype": "text/x-python",
   "name": "python",
   "nbconvert_exporter": "python",
   "pygments_lexer": "ipython3",
   "version": "3.8.6"
  }
 },
 "nbformat": 4,
 "nbformat_minor": 5
}
