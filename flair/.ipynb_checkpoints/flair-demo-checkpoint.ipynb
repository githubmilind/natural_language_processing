{
 "cells": [
  {
   "cell_type": "markdown",
   "id": "594ce6e8",
   "metadata": {},
   "source": [
    "install flair - also install pytorch"
   ]
  },
  {
   "cell_type": "code",
   "execution_count": 1,
   "id": "fc9f7657",
   "metadata": {},
   "outputs": [],
   "source": [
    "#!pip install flair"
   ]
  },
  {
   "cell_type": "code",
   "execution_count": 2,
   "id": "77dcac88",
   "metadata": {},
   "outputs": [],
   "source": [
    "# import flair\n",
    "import flair\n",
    "\n",
    "import pandas as pd \n",
    "import numpy as np\n",
    "import seaborn as sns "
   ]
  },
  {
   "cell_type": "code",
   "execution_count": 3,
   "id": "2ef7581d",
   "metadata": {},
   "outputs": [
    {
     "data": {
      "text/html": [
       "<div>\n",
       "<style scoped>\n",
       "    .dataframe tbody tr th:only-of-type {\n",
       "        vertical-align: middle;\n",
       "    }\n",
       "\n",
       "    .dataframe tbody tr th {\n",
       "        vertical-align: top;\n",
       "    }\n",
       "\n",
       "    .dataframe thead th {\n",
       "        text-align: right;\n",
       "    }\n",
       "</style>\n",
       "<table border=\"1\" class=\"dataframe\">\n",
       "  <thead>\n",
       "    <tr style=\"text-align: right;\">\n",
       "      <th></th>\n",
       "      <th>Unnamed: 0</th>\n",
       "      <th>clean_tweet</th>\n",
       "      <th>class</th>\n",
       "      <th>labels</th>\n",
       "    </tr>\n",
       "  </thead>\n",
       "  <tbody>\n",
       "    <tr>\n",
       "      <th>0</th>\n",
       "      <td>0</td>\n",
       "      <td>look at what you just said lls new era girl ...</td>\n",
       "      <td>1</td>\n",
       "      <td>offensive</td>\n",
       "    </tr>\n",
       "    <tr>\n",
       "      <th>1</th>\n",
       "      <td>1</td>\n",
       "      <td>driving the fucktardmobile  tranny slips and a...</td>\n",
       "      <td>1</td>\n",
       "      <td>offensive</td>\n",
       "    </tr>\n",
       "    <tr>\n",
       "      <th>2</th>\n",
       "      <td>2</td>\n",
       "      <td>if i ever put ma trust ina bitch  i will alwa...</td>\n",
       "      <td>1</td>\n",
       "      <td>offensive</td>\n",
       "    </tr>\n",
       "    <tr>\n",
       "      <th>3</th>\n",
       "      <td>3</td>\n",
       "      <td>stop twatching me bitch</td>\n",
       "      <td>1</td>\n",
       "      <td>offensive</td>\n",
       "    </tr>\n",
       "    <tr>\n",
       "      <th>4</th>\n",
       "      <td>4</td>\n",
       "      <td>you know bitches be mad when they be lik...</td>\n",
       "      <td>1</td>\n",
       "      <td>offensive</td>\n",
       "    </tr>\n",
       "  </tbody>\n",
       "</table>\n",
       "</div>"
      ],
      "text/plain": [
       "   Unnamed: 0                                        clean_tweet  class  \\\n",
       "0           0    look at what you just said lls new era girl ...      1   \n",
       "1           1  driving the fucktardmobile  tranny slips and a...      1   \n",
       "2           2   if i ever put ma trust ina bitch  i will alwa...      1   \n",
       "3           3                            stop twatching me bitch      1   \n",
       "4           4        you know bitches be mad when they be lik...      1   \n",
       "\n",
       "      labels  \n",
       "0  offensive  \n",
       "1  offensive  \n",
       "2  offensive  \n",
       "3  offensive  \n",
       "4  offensive  "
      ]
     },
     "execution_count": 3,
     "metadata": {},
     "output_type": "execute_result"
    }
   ],
   "source": [
    "df = pd.read_csv(\"offensive_vs_non_offensive_mini_dataset.csv\")\n",
    "df.head()"
   ]
  },
  {
   "cell_type": "code",
   "execution_count": 4,
   "id": "2f364841",
   "metadata": {},
   "outputs": [
    {
     "name": "stderr",
     "output_type": "stream",
     "text": [
      "c:\\users\\milind.desktop-gbr1bs2\\appdata\\local\\programs\\python\\python38\\lib\\site-packages\\seaborn\\_decorators.py:36: FutureWarning: Pass the following variable as a keyword arg: x. From version 0.12, the only valid positional argument will be `data`, and passing other arguments without an explicit keyword will result in an error or misinterpretation.\n",
      "  warnings.warn(\n"
     ]
    },
    {
     "data": {
      "text/plain": [
       "<AxesSubplot:xlabel='class', ylabel='count'>"
      ]
     },
     "execution_count": 4,
     "metadata": {},
     "output_type": "execute_result"
    },
    {
     "data": {
      "image/png": "[encoded data removed]",
      "text/plain": [
       "<Figure size 432x288 with 1 Axes>"
      ]
     },
     "metadata": {
      "needs_background": "light"
     },
     "output_type": "display_data"
    }
   ],
   "source": [
    "sns.countplot(df['class'])"
   ]
  },
  {
   "cell_type": "code",
   "execution_count": 5,
   "id": "d1d179e3",
   "metadata": {},
   "outputs": [
    {
     "data": {
      "text/html": [
       "<div>\n",
       "<style scoped>\n",
       "    .dataframe tbody tr th:only-of-type {\n",
       "        vertical-align: middle;\n",
       "    }\n",
       "\n",
       "    .dataframe tbody tr th {\n",
       "        vertical-align: top;\n",
       "    }\n",
       "\n",
       "    .dataframe thead th {\n",
       "        text-align: right;\n",
       "    }\n",
       "</style>\n",
       "<table border=\"1\" class=\"dataframe\">\n",
       "  <thead>\n",
       "    <tr style=\"text-align: right;\">\n",
       "      <th></th>\n",
       "      <th>text</th>\n",
       "      <th>labels</th>\n",
       "    </tr>\n",
       "  </thead>\n",
       "  <tbody>\n",
       "    <tr>\n",
       "      <th>0</th>\n",
       "      <td>look at what you just said lls new era girl ...</td>\n",
       "      <td>offensive</td>\n",
       "    </tr>\n",
       "    <tr>\n",
       "      <th>1</th>\n",
       "      <td>driving the fucktardmobile  tranny slips and a...</td>\n",
       "      <td>offensive</td>\n",
       "    </tr>\n",
       "    <tr>\n",
       "      <th>2</th>\n",
       "      <td>if i ever put ma trust ina bitch  i will alwa...</td>\n",
       "      <td>offensive</td>\n",
       "    </tr>\n",
       "    <tr>\n",
       "      <th>3</th>\n",
       "      <td>stop twatching me bitch</td>\n",
       "      <td>offensive</td>\n",
       "    </tr>\n",
       "    <tr>\n",
       "      <th>4</th>\n",
       "      <td>you know bitches be mad when they be lik...</td>\n",
       "      <td>offensive</td>\n",
       "    </tr>\n",
       "    <tr>\n",
       "      <th>...</th>\n",
       "      <td>...</td>\n",
       "      <td>...</td>\n",
       "    </tr>\n",
       "    <tr>\n",
       "      <th>4666</th>\n",
       "      <td>this bitch gonna steal a police uniform and th...</td>\n",
       "      <td>offensive</td>\n",
       "    </tr>\n",
       "    <tr>\n",
       "      <th>4667</th>\n",
       "      <td>if california chrome does not go off at even m...</td>\n",
       "      <td>offensive</td>\n",
       "    </tr>\n",
       "    <tr>\n",
       "      <th>4668</th>\n",
       "      <td>i do not love you hoes</td>\n",
       "      <td>offensive</td>\n",
       "    </tr>\n",
       "    <tr>\n",
       "      <th>4669</th>\n",
       "      <td>lmaoooo     white people lmaoo     filth  ...</td>\n",
       "      <td>offensive</td>\n",
       "    </tr>\n",
       "    <tr>\n",
       "      <th>4670</th>\n",
       "      <td>if you really wanna please your man seeing...</td>\n",
       "      <td>offensive</td>\n",
       "    </tr>\n",
       "  </tbody>\n",
       "</table>\n",
       "<p>4671 rows × 2 columns</p>\n",
       "</div>"
      ],
      "text/plain": [
       "                                                   text     labels\n",
       "0       look at what you just said lls new era girl ...  offensive\n",
       "1     driving the fucktardmobile  tranny slips and a...  offensive\n",
       "2      if i ever put ma trust ina bitch  i will alwa...  offensive\n",
       "3                               stop twatching me bitch  offensive\n",
       "4           you know bitches be mad when they be lik...  offensive\n",
       "...                                                 ...        ...\n",
       "4666  this bitch gonna steal a police uniform and th...  offensive\n",
       "4667  if california chrome does not go off at even m...  offensive\n",
       "4668                             i do not love you hoes  offensive\n",
       "4669      lmaoooo     white people lmaoo     filth  ...  offensive\n",
       "4670      if you really wanna please your man seeing...  offensive\n",
       "\n",
       "[4671 rows x 2 columns]"
      ]
     },
     "execution_count": 5,
     "metadata": {},
     "output_type": "execute_result"
    }
   ],
   "source": [
    "df1 = df[['clean_tweet','labels']]\n",
    "df1.columns  = ['text','labels']\n",
    "df1"
   ]
  },
  {
   "cell_type": "code",
   "execution_count": 6,
   "id": "8059920f",
   "metadata": {},
   "outputs": [
    {
     "data": {
      "text/html": [
       "<div>\n",
       "<style scoped>\n",
       "    .dataframe tbody tr th:only-of-type {\n",
       "        vertical-align: middle;\n",
       "    }\n",
       "\n",
       "    .dataframe tbody tr th {\n",
       "        vertical-align: top;\n",
       "    }\n",
       "\n",
       "    .dataframe thead th {\n",
       "        text-align: right;\n",
       "    }\n",
       "</style>\n",
       "<table border=\"1\" class=\"dataframe\">\n",
       "  <thead>\n",
       "    <tr style=\"text-align: right;\">\n",
       "      <th></th>\n",
       "      <th>labels</th>\n",
       "      <th>text</th>\n",
       "    </tr>\n",
       "  </thead>\n",
       "  <tbody>\n",
       "    <tr>\n",
       "      <th>0</th>\n",
       "      <td>__label__offensive</td>\n",
       "      <td>look at what you just said lls new era girl ...</td>\n",
       "    </tr>\n",
       "    <tr>\n",
       "      <th>1</th>\n",
       "      <td>__label__offensive</td>\n",
       "      <td>driving the fucktardmobile  tranny slips and a...</td>\n",
       "    </tr>\n",
       "    <tr>\n",
       "      <th>2</th>\n",
       "      <td>__label__offensive</td>\n",
       "      <td>if i ever put ma trust ina bitch  i will alwa...</td>\n",
       "    </tr>\n",
       "    <tr>\n",
       "      <th>3</th>\n",
       "      <td>__label__offensive</td>\n",
       "      <td>stop twatching me bitch</td>\n",
       "    </tr>\n",
       "    <tr>\n",
       "      <th>4</th>\n",
       "      <td>__label__offensive</td>\n",
       "      <td>you know bitches be mad when they be lik...</td>\n",
       "    </tr>\n",
       "    <tr>\n",
       "      <th>...</th>\n",
       "      <td>...</td>\n",
       "      <td>...</td>\n",
       "    </tr>\n",
       "    <tr>\n",
       "      <th>4666</th>\n",
       "      <td>__label__offensive</td>\n",
       "      <td>this bitch gonna steal a police uniform and th...</td>\n",
       "    </tr>\n",
       "    <tr>\n",
       "      <th>4667</th>\n",
       "      <td>__label__offensive</td>\n",
       "      <td>if california chrome does not go off at even m...</td>\n",
       "    </tr>\n",
       "    <tr>\n",
       "      <th>4668</th>\n",
       "      <td>__label__offensive</td>\n",
       "      <td>i do not love you hoes</td>\n",
       "    </tr>\n",
       "    <tr>\n",
       "      <th>4669</th>\n",
       "      <td>__label__offensive</td>\n",
       "      <td>lmaoooo     white people lmaoo     filth  ...</td>\n",
       "    </tr>\n",
       "    <tr>\n",
       "      <th>4670</th>\n",
       "      <td>__label__offensive</td>\n",
       "      <td>if you really wanna please your man seeing...</td>\n",
       "    </tr>\n",
       "  </tbody>\n",
       "</table>\n",
       "<p>4671 rows × 2 columns</p>\n",
       "</div>"
      ],
      "text/plain": [
       "                  labels                                               text\n",
       "0     __label__offensive    look at what you just said lls new era girl ...\n",
       "1     __label__offensive  driving the fucktardmobile  tranny slips and a...\n",
       "2     __label__offensive   if i ever put ma trust ina bitch  i will alwa...\n",
       "3     __label__offensive                            stop twatching me bitch\n",
       "4     __label__offensive        you know bitches be mad when they be lik...\n",
       "...                  ...                                                ...\n",
       "4666  __label__offensive  this bitch gonna steal a police uniform and th...\n",
       "4667  __label__offensive  if california chrome does not go off at even m...\n",
       "4668  __label__offensive                             i do not love you hoes\n",
       "4669  __label__offensive      lmaoooo     white people lmaoo     filth  ...\n",
       "4670  __label__offensive      if you really wanna please your man seeing...\n",
       "\n",
       "[4671 rows x 2 columns]"
      ]
     },
     "execution_count": 6,
     "metadata": {},
     "output_type": "execute_result"
    }
   ],
   "source": [
    "# For FastText\n",
    "df_fst = df1.copy()\n",
    "df_fst['labels'] = '__label__' + df_fst['labels'].astype(str)\n",
    "df_fst = df_fst[['labels','text']]\n",
    "df_fst"
   ]
  },
  {
   "cell_type": "markdown",
   "id": "fea3ee26",
   "metadata": {},
   "source": [
    "Spliting Dataset into train, test, dev"
   ]
  },
  {
   "cell_type": "code",
   "execution_count": 7,
   "id": "2a2e26c7",
   "metadata": {},
   "outputs": [],
   "source": [
    "train, test, dev = np.split(df1,[int(.6*len(df1)),int(.8*len(df1))])"
   ]
  },
  {
   "cell_type": "code",
   "execution_count": 8,
   "id": "3d3aef7c",
   "metadata": {},
   "outputs": [
    {
     "name": "stderr",
     "output_type": "stream",
     "text": [
      "A subdirectory or file -p already exists.\n",
      "Error occurred while processing: -p.\n",
      "A subdirectory or file data already exists.\n",
      "Error occurred while processing: data.\n"
     ]
    }
   ],
   "source": [
    "# Create A Folder for the csv\n",
    "!mkdir -p data"
   ]
  },
  {
   "cell_type": "code",
   "execution_count": 9,
   "id": "29f78e8e",
   "metadata": {},
   "outputs": [],
   "source": [
    "train.to_csv(\"data/train.csv\")\n",
    "test.to_csv(\"data/test.csv\")\n",
    "dev.to_csv(\"data/dev.csv\")"
   ]
  },
  {
   "cell_type": "code",
   "execution_count": 10,
   "id": "2d3e5b2c",
   "metadata": {},
   "outputs": [],
   "source": [
    "# Spliting FastText Format Dataset into 3\n",
    "# Using Numpy\n",
    "train_fst, test_fst, dev_fst = np.split(df_fst,[int(.6*len(df_fst)),int(.8*len(df_fst))])"
   ]
  },
  {
   "cell_type": "code",
   "execution_count": 11,
   "id": "99598177",
   "metadata": {},
   "outputs": [
    {
     "name": "stderr",
     "output_type": "stream",
     "text": [
      "A subdirectory or file -p already exists.\n",
      "Error occurred while processing: -p.\n",
      "A subdirectory or file data_fst already exists.\n",
      "Error occurred while processing: data_fst.\n"
     ]
    }
   ],
   "source": [
    "# Store in a  folder\n",
    "!mkdir -p data_fst"
   ]
  },
  {
   "cell_type": "code",
   "execution_count": 12,
   "id": "eff9e545",
   "metadata": {},
   "outputs": [],
   "source": [
    "train_fst.to_csv(\"data_fst/train.csv\",sep='\\t',index=False,header=False)\n",
    "test_fst.to_csv(\"data_fst/test.csv\",sep='\\t',index=False,header=False)\n",
    "dev_fst.to_csv(\"data_fst/dev.csv\",sep='\\t',index=False,header=False)"
   ]
  },
  {
   "cell_type": "markdown",
   "id": "254914f9",
   "metadata": {},
   "source": [
    "Building Corpus"
   ]
  },
  {
   "cell_type": "code",
   "execution_count": 13,
   "id": "e456c181",
   "metadata": {},
   "outputs": [],
   "source": [
    "from flair.datasets import ClassificationCorpus,CSVClassificationCorpus\n",
    "from flair.data import Corpus"
   ]
  },
  {
   "cell_type": "code",
   "execution_count": 14,
   "id": "2738a7be",
   "metadata": {},
   "outputs": [],
   "source": [
    "column_name_map = {2:\"label_topic\", 1:\"text\"}\n",
    "data_folder = 'data/'\n",
    "data_folder_fst = 'data_fst/'"
   ]
  },
  {
   "cell_type": "code",
   "execution_count": 16,
   "id": "c640301e",
   "metadata": {},
   "outputs": [
    {
     "name": "stdout",
     "output_type": "stream",
     "text": [
      "2022-04-03 15:25:40,220 Reading data from data\n",
      "2022-04-03 15:25:40,222 Train: data\\train.csv\n",
      "2022-04-03 15:25:40,224 Dev: data\\dev.csv\n",
      "2022-04-03 15:25:40,225 Test: data\\test.csv\n"
     ]
    }
   ],
   "source": [
    "# Create Corpus For CSV\n",
    "corpus_csv: Corpus = CSVClassificationCorpus(data_folder, column_name_map=column_name_map, label_type='label_topic',  skip_header=True, delimiter=',')"
   ]
  },
  {
   "cell_type": "code",
   "execution_count": 17,
   "id": "aa6abb25",
   "metadata": {},
   "outputs": [
    {
     "name": "stdout",
     "output_type": "stream",
     "text": [
      "2022-04-03 15:25:58,922 Reading data from data_fst\n",
      "2022-04-03 15:25:58,923 Train: data_fst\\training.log\n",
      "2022-04-03 15:25:58,925 Dev: data_fst\\dev.csv\n",
      "2022-04-03 15:25:58,926 Test: data_fst\\test.csv\n",
      "2022-04-03 15:25:59,021 Initialized corpus data_fst/ (label type name is 'label_topic')\n"
     ]
    }
   ],
   "source": [
    "corpus_fst: Corpus = ClassificationCorpus(data_folder_fst, label_type='label_topic')"
   ]
  },
  {
   "cell_type": "code",
   "execution_count": null,
   "id": "c436b0c9",
   "metadata": {
    "scrolled": true
   },
   "outputs": [
    {
     "name": "stdout",
     "output_type": "stream",
     "text": [
      "2022-04-03 15:26:02,603 Computing label dictionary. Progress:\n"
     ]
    },
    {
     "name": "stderr",
     "output_type": "stream",
     "text": [
      "c:\\users\\milind.desktop-gbr1bs2\\appdata\\local\\programs\\python\\python38\\lib\\site-packages\\torch\\utils\\data\\dataloader.py:487: UserWarning: This DataLoader will create 8 worker processes in total. Our suggested max number of worker in current system is 4 (`cpuset` is not taken into account), which is smaller than what this DataLoader is going to create. Please be aware that excessive worker creation might get DataLoader running slow or even freeze, lower the worker number to avoid potential slowness/freeze if necessary.\n",
      "  warnings.warn(_create_warning_msg(\n"
     ]
    }
   ],
   "source": [
    "# Creating the Label Diction For CSV\n",
    "label_dict_csv = corpus_csv.make_label_dictionary(label_type='label_topic')"
   ]
  },
  {
   "cell_type": "code",
   "execution_count": null,
   "id": "22f708ff",
   "metadata": {
    "scrolled": true
   },
   "outputs": [],
   "source": [
    "# Creating the Label Diction For FastText\n",
    "label_dict_fst = corpus_fst.make_label_dictionary(label_type='label_topic')"
   ]
  },
  {
   "cell_type": "code",
   "execution_count": null,
   "id": "8cc18a43",
   "metadata": {},
   "outputs": [],
   "source": [
    "# Working with the Word Embeddings\n",
    "from flair.embeddings import FlairEmbeddings, WordEmbeddings, StackedEmbeddings, DocumentLSTMEmbeddings, DocumentRNNEmbeddings"
   ]
  },
  {
   "cell_type": "code",
   "execution_count": null,
   "id": "f80142fb",
   "metadata": {},
   "outputs": [],
   "source": [
    "# Create our WEmbeddings\n",
    "word_embeddings = [FlairEmbeddings('news-forward-fast'),FlairEmbeddings('news-backward-fast')]"
   ]
  },
  {
   "cell_type": "code",
   "execution_count": null,
   "id": "e2632577",
   "metadata": {},
   "outputs": [],
   "source": [
    "# Document Embeddings\n",
    "document_embeddings = DocumentRNNEmbeddings(word_embeddings,hidden_size=512,reproject_words=True,reproject_words_dimension=256)"
   ]
  },
  {
   "cell_type": "code",
   "execution_count": null,
   "id": "5bed005f",
   "metadata": {},
   "outputs": [],
   "source": [
    "# Load NLP Pkgs\n",
    "from flair.models import TextClassifier\n",
    "from flair.trainers import ModelTrainer"
   ]
  },
  {
   "cell_type": "code",
   "execution_count": null,
   "id": "94c0b863",
   "metadata": {},
   "outputs": [],
   "source": [
    "# Classifier with CSV dataset\n",
    "clf = TextClassifier(document_embeddings, label_dictionary=label_dict_csv, label_type='label_topic')"
   ]
  },
  {
   "cell_type": "code",
   "execution_count": null,
   "id": "fb17fb47",
   "metadata": {},
   "outputs": [],
   "source": [
    "# Classifier with FastText Format\n",
    "clf2 = TextClassifier(document_embeddings, label_dictionary=label_dict_fst, label_type='label_topic')"
   ]
  },
  {
   "cell_type": "code",
   "execution_count": null,
   "id": "3dd632be",
   "metadata": {},
   "outputs": [],
   "source": [
    "# Training\n",
    "# Init\n",
    "trainer = ModelTrainer(clf2, corpus_fst)"
   ]
  },
  {
   "cell_type": "code",
   "execution_count": null,
   "id": "b0d1271d",
   "metadata": {
    "scrolled": true
   },
   "outputs": [],
   "source": [
    "# Fit/Training with Dataset\n",
    "trainer.train('data_fst/',max_epochs=2)"
   ]
  },
  {
   "cell_type": "code",
   "execution_count": null,
   "id": "c008e3f4",
   "metadata": {
    "scrolled": true
   },
   "outputs": [],
   "source": [
    "# Making Prediciton\n",
    "# Load Saved Model and Predict\n",
    "new_clf = TextClassifier.load('data_fst/final-model.pt')"
   ]
  },
  {
   "cell_type": "code",
   "execution_count": null,
   "id": "4c522ced",
   "metadata": {},
   "outputs": [],
   "source": [
    "from flair.data import Sentence"
   ]
  },
  {
   "cell_type": "code",
   "execution_count": null,
   "id": "1f1f4a70",
   "metadata": {},
   "outputs": [],
   "source": [
    "# Sample Sentence\n",
    "ex1 = Sentence(\"That girl is a bitch\")\n",
    "ex2 = Sentence(\"This is a good material\")"
   ]
  },
  {
   "cell_type": "code",
   "execution_count": null,
   "id": "a0c1b635",
   "metadata": {},
   "outputs": [],
   "source": [
    "# Apply our model\n",
    "new_clf.predict(ex1)\n",
    "ex1.labels"
   ]
  },
  {
   "cell_type": "code",
   "execution_count": null,
   "id": "dda1831a",
   "metadata": {},
   "outputs": [],
   "source": [
    "new_clf.predict(ex2)\n",
    "ex2.labels"
   ]
  }
 ],
 "metadata": {
  "kernelspec": {
   "display_name": "Python 3",
   "language": "python",
   "name": "python3"
  },
  "language_info": {
   "codemirror_mode": {
    "name": "ipython",
    "version": 3
   },
   "file_extension": ".py",
   "mimetype": "text/x-python",
   "name": "python",
   "nbconvert_exporter": "python",
   "pygments_lexer": "ipython3",
   "version": "3.8.6"
  }
 },
 "nbformat": 4,
 "nbformat_minor": 5
}
