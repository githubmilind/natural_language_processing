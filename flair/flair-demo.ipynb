{
 "cells": [
  {
   "cell_type": "markdown",
   "id": "e60f7408",
   "metadata": {},
   "source": [
    "install flair - also install pytorch"
   ]
  },
  {
   "cell_type": "code",
   "execution_count": 1,
   "id": "0dce41ac",
   "metadata": {},
   "outputs": [],
   "source": [
    "#!pip install flair"
   ]
  },
  {
   "cell_type": "code",
   "execution_count": 1,
   "id": "15c75d86",
   "metadata": {},
   "outputs": [],
   "source": [
    "# import flair\n",
    "import flair\n",
    "\n",
    "import pandas as pd \n",
    "import numpy as np\n",
    "import seaborn as sns "
   ]
  },
  {
   "cell_type": "code",
   "execution_count": 2,
   "id": "20728226",
   "metadata": {},
   "outputs": [
    {
     "data": {
      "text/html": [
       "<div>\n",
       "<style scoped>\n",
       "    .dataframe tbody tr th:only-of-type {\n",
       "        vertical-align: middle;\n",
       "    }\n",
       "\n",
       "    .dataframe tbody tr th {\n",
       "        vertical-align: top;\n",
       "    }\n",
       "\n",
       "    .dataframe thead th {\n",
       "        text-align: right;\n",
       "    }\n",
       "</style>\n",
       "<table border=\"1\" class=\"dataframe\">\n",
       "  <thead>\n",
       "    <tr style=\"text-align: right;\">\n",
       "      <th></th>\n",
       "      <th>Unnamed: 0</th>\n",
       "      <th>clean_tweet</th>\n",
       "      <th>class</th>\n",
       "      <th>labels</th>\n",
       "    </tr>\n",
       "  </thead>\n",
       "  <tbody>\n",
       "    <tr>\n",
       "      <th>0</th>\n",
       "      <td>0</td>\n",
       "      <td>look at what you just said lls new era girl ...</td>\n",
       "      <td>1</td>\n",
       "      <td>offensive</td>\n",
       "    </tr>\n",
       "    <tr>\n",
       "      <th>1</th>\n",
       "      <td>1</td>\n",
       "      <td>driving the fucktardmobile  tranny slips and a...</td>\n",
       "      <td>1</td>\n",
       "      <td>offensive</td>\n",
       "    </tr>\n",
       "    <tr>\n",
       "      <th>2</th>\n",
       "      <td>2</td>\n",
       "      <td>if i ever put ma trust ina bitch  i will alwa...</td>\n",
       "      <td>1</td>\n",
       "      <td>offensive</td>\n",
       "    </tr>\n",
       "    <tr>\n",
       "      <th>3</th>\n",
       "      <td>3</td>\n",
       "      <td>stop twatching me bitch</td>\n",
       "      <td>1</td>\n",
       "      <td>offensive</td>\n",
       "    </tr>\n",
       "    <tr>\n",
       "      <th>4</th>\n",
       "      <td>4</td>\n",
       "      <td>you know bitches be mad when they be lik...</td>\n",
       "      <td>1</td>\n",
       "      <td>offensive</td>\n",
       "    </tr>\n",
       "  </tbody>\n",
       "</table>\n",
       "</div>"
      ],
      "text/plain": [
       "   Unnamed: 0                                        clean_tweet  class  \\\n",
       "0           0    look at what you just said lls new era girl ...      1   \n",
       "1           1  driving the fucktardmobile  tranny slips and a...      1   \n",
       "2           2   if i ever put ma trust ina bitch  i will alwa...      1   \n",
       "3           3                            stop twatching me bitch      1   \n",
       "4           4        you know bitches be mad when they be lik...      1   \n",
       "\n",
       "      labels  \n",
       "0  offensive  \n",
       "1  offensive  \n",
       "2  offensive  \n",
       "3  offensive  \n",
       "4  offensive  "
      ]
     },
     "execution_count": 2,
     "metadata": {},
     "output_type": "execute_result"
    }
   ],
   "source": [
    "df = pd.read_csv(\"offensive_vs_non_offensive_mini_dataset.csv\")\n",
    "df.head()"
   ]
  },
  {
   "cell_type": "code",
   "execution_count": 3,
   "id": "373c3bbf",
   "metadata": {},
   "outputs": [
    {
     "name": "stderr",
     "output_type": "stream",
     "text": [
      "c:\\users\\milind.desktop-gbr1bs2\\appdata\\local\\programs\\python\\python38\\lib\\site-packages\\seaborn\\_decorators.py:36: FutureWarning: Pass the following variable as a keyword arg: x. From version 0.12, the only valid positional argument will be `data`, and passing other arguments without an explicit keyword will result in an error or misinterpretation.\n",
      "  warnings.warn(\n"
     ]
    },
    {
     "data": {
      "text/plain": [
       "<AxesSubplot:xlabel='class', ylabel='count'>"
      ]
     },
     "execution_count": 3,
     "metadata": {},
     "output_type": "execute_result"
    },
    {
     "data": {
      "image/png": "[encoded data removed]",
      "text/plain": [
       "<Figure size 432x288 with 1 Axes>"
      ]
     },
     "metadata": {
      "needs_background": "light"
     },
     "output_type": "display_data"
    }
   ],
   "source": [
    "sns.countplot(df['class'])"
   ]
  },
  {
   "cell_type": "code",
   "execution_count": 4,
   "id": "ba7393e1",
   "metadata": {},
   "outputs": [
    {
     "data": {
      "text/html": [
       "<div>\n",
       "<style scoped>\n",
       "    .dataframe tbody tr th:only-of-type {\n",
       "        vertical-align: middle;\n",
       "    }\n",
       "\n",
       "    .dataframe tbody tr th {\n",
       "        vertical-align: top;\n",
       "    }\n",
       "\n",
       "    .dataframe thead th {\n",
       "        text-align: right;\n",
       "    }\n",
       "</style>\n",
       "<table border=\"1\" class=\"dataframe\">\n",
       "  <thead>\n",
       "    <tr style=\"text-align: right;\">\n",
       "      <th></th>\n",
       "      <th>text</th>\n",
       "      <th>labels</th>\n",
       "    </tr>\n",
       "  </thead>\n",
       "  <tbody>\n",
       "    <tr>\n",
       "      <th>0</th>\n",
       "      <td>look at what you just said lls new era girl ...</td>\n",
       "      <td>offensive</td>\n",
       "    </tr>\n",
       "    <tr>\n",
       "      <th>1</th>\n",
       "      <td>driving the fucktardmobile  tranny slips and a...</td>\n",
       "      <td>offensive</td>\n",
       "    </tr>\n",
       "    <tr>\n",
       "      <th>2</th>\n",
       "      <td>if i ever put ma trust ina bitch  i will alwa...</td>\n",
       "      <td>offensive</td>\n",
       "    </tr>\n",
       "    <tr>\n",
       "      <th>3</th>\n",
       "      <td>stop twatching me bitch</td>\n",
       "      <td>offensive</td>\n",
       "    </tr>\n",
       "    <tr>\n",
       "      <th>4</th>\n",
       "      <td>you know bitches be mad when they be lik...</td>\n",
       "      <td>offensive</td>\n",
       "    </tr>\n",
       "    <tr>\n",
       "      <th>...</th>\n",
       "      <td>...</td>\n",
       "      <td>...</td>\n",
       "    </tr>\n",
       "    <tr>\n",
       "      <th>4666</th>\n",
       "      <td>this bitch gonna steal a police uniform and th...</td>\n",
       "      <td>offensive</td>\n",
       "    </tr>\n",
       "    <tr>\n",
       "      <th>4667</th>\n",
       "      <td>if california chrome does not go off at even m...</td>\n",
       "      <td>offensive</td>\n",
       "    </tr>\n",
       "    <tr>\n",
       "      <th>4668</th>\n",
       "      <td>i do not love you hoes</td>\n",
       "      <td>offensive</td>\n",
       "    </tr>\n",
       "    <tr>\n",
       "      <th>4669</th>\n",
       "      <td>lmaoooo     white people lmaoo     filth  ...</td>\n",
       "      <td>offensive</td>\n",
       "    </tr>\n",
       "    <tr>\n",
       "      <th>4670</th>\n",
       "      <td>if you really wanna please your man seeing...</td>\n",
       "      <td>offensive</td>\n",
       "    </tr>\n",
       "  </tbody>\n",
       "</table>\n",
       "<p>4671 rows × 2 columns</p>\n",
       "</div>"
      ],
      "text/plain": [
       "                                                   text     labels\n",
       "0       look at what you just said lls new era girl ...  offensive\n",
       "1     driving the fucktardmobile  tranny slips and a...  offensive\n",
       "2      if i ever put ma trust ina bitch  i will alwa...  offensive\n",
       "3                               stop twatching me bitch  offensive\n",
       "4           you know bitches be mad when they be lik...  offensive\n",
       "...                                                 ...        ...\n",
       "4666  this bitch gonna steal a police uniform and th...  offensive\n",
       "4667  if california chrome does not go off at even m...  offensive\n",
       "4668                             i do not love you hoes  offensive\n",
       "4669      lmaoooo     white people lmaoo     filth  ...  offensive\n",
       "4670      if you really wanna please your man seeing...  offensive\n",
       "\n",
       "[4671 rows x 2 columns]"
      ]
     },
     "execution_count": 4,
     "metadata": {},
     "output_type": "execute_result"
    }
   ],
   "source": [
    "df1 = df[['clean_tweet','labels']]\n",
    "df1.columns  = ['text','labels']\n",
    "df1"
   ]
  },
  {
   "cell_type": "code",
   "execution_count": 5,
   "id": "b70e8656",
   "metadata": {},
   "outputs": [
    {
     "data": {
      "text/html": [
       "<div>\n",
       "<style scoped>\n",
       "    .dataframe tbody tr th:only-of-type {\n",
       "        vertical-align: middle;\n",
       "    }\n",
       "\n",
       "    .dataframe tbody tr th {\n",
       "        vertical-align: top;\n",
       "    }\n",
       "\n",
       "    .dataframe thead th {\n",
       "        text-align: right;\n",
       "    }\n",
       "</style>\n",
       "<table border=\"1\" class=\"dataframe\">\n",
       "  <thead>\n",
       "    <tr style=\"text-align: right;\">\n",
       "      <th></th>\n",
       "      <th>labels</th>\n",
       "      <th>text</th>\n",
       "    </tr>\n",
       "  </thead>\n",
       "  <tbody>\n",
       "    <tr>\n",
       "      <th>0</th>\n",
       "      <td>__label__offensive</td>\n",
       "      <td>look at what you just said lls new era girl ...</td>\n",
       "    </tr>\n",
       "    <tr>\n",
       "      <th>1</th>\n",
       "      <td>__label__offensive</td>\n",
       "      <td>driving the fucktardmobile  tranny slips and a...</td>\n",
       "    </tr>\n",
       "    <tr>\n",
       "      <th>2</th>\n",
       "      <td>__label__offensive</td>\n",
       "      <td>if i ever put ma trust ina bitch  i will alwa...</td>\n",
       "    </tr>\n",
       "    <tr>\n",
       "      <th>3</th>\n",
       "      <td>__label__offensive</td>\n",
       "      <td>stop twatching me bitch</td>\n",
       "    </tr>\n",
       "    <tr>\n",
       "      <th>4</th>\n",
       "      <td>__label__offensive</td>\n",
       "      <td>you know bitches be mad when they be lik...</td>\n",
       "    </tr>\n",
       "    <tr>\n",
       "      <th>...</th>\n",
       "      <td>...</td>\n",
       "      <td>...</td>\n",
       "    </tr>\n",
       "    <tr>\n",
       "      <th>4666</th>\n",
       "      <td>__label__offensive</td>\n",
       "      <td>this bitch gonna steal a police uniform and th...</td>\n",
       "    </tr>\n",
       "    <tr>\n",
       "      <th>4667</th>\n",
       "      <td>__label__offensive</td>\n",
       "      <td>if california chrome does not go off at even m...</td>\n",
       "    </tr>\n",
       "    <tr>\n",
       "      <th>4668</th>\n",
       "      <td>__label__offensive</td>\n",
       "      <td>i do not love you hoes</td>\n",
       "    </tr>\n",
       "    <tr>\n",
       "      <th>4669</th>\n",
       "      <td>__label__offensive</td>\n",
       "      <td>lmaoooo     white people lmaoo     filth  ...</td>\n",
       "    </tr>\n",
       "    <tr>\n",
       "      <th>4670</th>\n",
       "      <td>__label__offensive</td>\n",
       "      <td>if you really wanna please your man seeing...</td>\n",
       "    </tr>\n",
       "  </tbody>\n",
       "</table>\n",
       "<p>4671 rows × 2 columns</p>\n",
       "</div>"
      ],
      "text/plain": [
       "                  labels                                               text\n",
       "0     __label__offensive    look at what you just said lls new era girl ...\n",
       "1     __label__offensive  driving the fucktardmobile  tranny slips and a...\n",
       "2     __label__offensive   if i ever put ma trust ina bitch  i will alwa...\n",
       "3     __label__offensive                            stop twatching me bitch\n",
       "4     __label__offensive        you know bitches be mad when they be lik...\n",
       "...                  ...                                                ...\n",
       "4666  __label__offensive  this bitch gonna steal a police uniform and th...\n",
       "4667  __label__offensive  if california chrome does not go off at even m...\n",
       "4668  __label__offensive                             i do not love you hoes\n",
       "4669  __label__offensive      lmaoooo     white people lmaoo     filth  ...\n",
       "4670  __label__offensive      if you really wanna please your man seeing...\n",
       "\n",
       "[4671 rows x 2 columns]"
      ]
     },
     "execution_count": 5,
     "metadata": {},
     "output_type": "execute_result"
    }
   ],
   "source": [
    "# For FastText\n",
    "df_fst = df1.copy()\n",
    "df_fst['labels'] = '__label__' + df_fst['labels'].astype(str)\n",
    "df_fst = df_fst[['labels','text']]\n",
    "df_fst"
   ]
  },
  {
   "cell_type": "markdown",
   "id": "a315d921",
   "metadata": {},
   "source": [
    "Spliting Dataset into train, test, dev"
   ]
  },
  {
   "cell_type": "code",
   "execution_count": 6,
   "id": "9f92fa31",
   "metadata": {},
   "outputs": [],
   "source": [
    "train, test, dev = np.split(df1,[int(.6*len(df1)),int(.8*len(df1))])"
   ]
  },
  {
   "cell_type": "code",
   "execution_count": 7,
   "id": "d02f8f4b",
   "metadata": {},
   "outputs": [
    {
     "name": "stderr",
     "output_type": "stream",
     "text": [
      "A subdirectory or file -p already exists.\n",
      "Error occurred while processing: -p.\n",
      "A subdirectory or file data already exists.\n",
      "Error occurred while processing: data.\n"
     ]
    }
   ],
   "source": [
    "# Create A Folder for the csv\n",
    "!mkdir -p data"
   ]
  },
  {
   "cell_type": "code",
   "execution_count": 8,
   "id": "25d581bd",
   "metadata": {},
   "outputs": [],
   "source": [
    "train.to_csv(\"data/train.csv\")\n",
    "test.to_csv(\"data/test.csv\")\n",
    "dev.to_csv(\"data/dev.csv\")"
   ]
  },
  {
   "cell_type": "code",
   "execution_count": 9,
   "id": "16a4e1a6",
   "metadata": {},
   "outputs": [],
   "source": [
    "# Spliting FastText Format Dataset into 3\n",
    "# Using Numpy\n",
    "train_fst, test_fst, dev_fst = np.split(df_fst,[int(.6*len(df_fst)),int(.8*len(df_fst))])"
   ]
  },
  {
   "cell_type": "code",
   "execution_count": 10,
   "id": "3112db48",
   "metadata": {},
   "outputs": [
    {
     "name": "stderr",
     "output_type": "stream",
     "text": [
      "A subdirectory or file -p already exists.\n",
      "Error occurred while processing: -p.\n",
      "A subdirectory or file data_fst already exists.\n",
      "Error occurred while processing: data_fst.\n"
     ]
    }
   ],
   "source": [
    "# Store in a  folder\n",
    "!mkdir -p data_fst"
   ]
  },
  {
   "cell_type": "code",
   "execution_count": 11,
   "id": "06727b38",
   "metadata": {},
   "outputs": [],
   "source": [
    "train_fst.to_csv(\"data_fst/train.csv\",sep='\\t',index=False,header=False)\n",
    "test_fst.to_csv(\"data_fst/test.csv\",sep='\\t',index=False,header=False)\n",
    "dev_fst.to_csv(\"data_fst/dev.csv\",sep='\\t',index=False,header=False)"
   ]
  },
  {
   "cell_type": "markdown",
   "id": "b527a309",
   "metadata": {},
   "source": [
    "Building Corpus"
   ]
  },
  {
   "cell_type": "code",
   "execution_count": 12,
   "id": "33cc5233",
   "metadata": {},
   "outputs": [],
   "source": [
    "from flair.datasets import ClassificationCorpus,CSVClassificationCorpus\n",
    "from flair.data import Corpus"
   ]
  },
  {
   "cell_type": "code",
   "execution_count": 13,
   "id": "751dd578",
   "metadata": {},
   "outputs": [],
   "source": [
    "column_name_map = {2:\"label_topic\", 1:\"text\"}\n",
    "data_folder = 'data/'\n",
    "data_folder_fst = 'data_fst/'"
   ]
  },
  {
   "cell_type": "code",
   "execution_count": 14,
   "id": "360560b7",
   "metadata": {},
   "outputs": [
    {
     "name": "stdout",
     "output_type": "stream",
     "text": [
      "2022-11-03 12:54:30,530 Reading data from data\n",
      "2022-11-03 12:54:30,531 Train: data\\train.csv\n",
      "2022-11-03 12:54:30,533 Dev: data\\dev.csv\n",
      "2022-11-03 12:54:30,534 Test: data\\test.csv\n"
     ]
    }
   ],
   "source": [
    "# Create Corpus For CSV\n",
    "corpus_csv: Corpus = CSVClassificationCorpus(data_folder, column_name_map=column_name_map, label_type='label_topic',  skip_header=True, delimiter=',')"
   ]
  },
  {
   "cell_type": "code",
   "execution_count": 15,
   "id": "3efac35c",
   "metadata": {},
   "outputs": [
    {
     "name": "stdout",
     "output_type": "stream",
     "text": [
      "2022-11-03 12:54:32,615 Reading data from data_fst\n",
      "2022-11-03 12:54:32,617 Train: data_fst\\train.csv\n",
      "2022-11-03 12:54:32,618 Dev: data_fst\\dev.csv\n",
      "2022-11-03 12:54:32,620 Test: data_fst\\test.csv\n",
      "2022-11-03 12:54:32,749 Initialized corpus data_fst/ (label type name is 'label_topic')\n"
     ]
    }
   ],
   "source": [
    "corpus_fst: Corpus = ClassificationCorpus(data_folder_fst, label_type='label_topic')"
   ]
  },
  {
   "cell_type": "code",
   "execution_count": 16,
   "id": "8c28261e",
   "metadata": {},
   "outputs": [
    {
     "data": {
      "text/plain": [
       "<flair.datasets.document_classification.ClassificationCorpus at 0x1d0de035130>"
      ]
     },
     "execution_count": 16,
     "metadata": {},
     "output_type": "execute_result"
    }
   ],
   "source": [
    "corpus_fst"
   ]
  },
  {
   "cell_type": "code",
   "execution_count": 17,
   "id": "24913d62",
   "metadata": {
    "scrolled": true
   },
   "outputs": [
    {
     "name": "stdout",
     "output_type": "stream",
     "text": [
      "2022-11-03 12:54:37,145 Computing label dictionary. Progress:\n"
     ]
    },
    {
     "name": "stderr",
     "output_type": "stream",
     "text": [
      "c:\\users\\milind.desktop-gbr1bs2\\appdata\\local\\programs\\python\\python38\\lib\\site-packages\\torch\\utils\\data\\dataloader.py:487: UserWarning: This DataLoader will create 8 worker processes in total. Our suggested max number of worker in current system is 4 (`cpuset` is not taken into account), which is smaller than what this DataLoader is going to create. Please be aware that excessive worker creation might get DataLoader running slow or even freeze, lower the worker number to avoid potential slowness/freeze if necessary.\n",
      "  warnings.warn(_create_warning_msg(\n",
      "100%|█████████████████████████████████████████████████████████████████████████████| 2802/2802 [00:05<00:00, 506.47it/s]"
     ]
    },
    {
     "name": "stdout",
     "output_type": "stream",
     "text": [
      "2022-11-03 12:57:50,046 Corpus contains the labels: label_topic (#2802)\n",
      "2022-11-03 12:57:50,048 Created (for label 'label_topic') Dictionary with 3 tags: <unk>, offensive, non_offensive\n"
     ]
    },
    {
     "name": "stderr",
     "output_type": "stream",
     "text": [
      "\n"
     ]
    }
   ],
   "source": [
    "# Creating the Label Diction For CSV\n",
    "label_dict_csv = corpus_csv.make_label_dictionary(label_type='label_topic')"
   ]
  },
  {
   "cell_type": "code",
   "execution_count": 18,
   "id": "ab39dee8",
   "metadata": {
    "scrolled": true
   },
   "outputs": [
    {
     "name": "stdout",
     "output_type": "stream",
     "text": [
      "2022-11-03 12:57:50,063 Computing label dictionary. Progress:\n"
     ]
    },
    {
     "name": "stderr",
     "output_type": "stream",
     "text": [
      "100%|█████████████████████████████████████████████████████████████████████████████| 2801/2801 [00:06<00:00, 435.01it/s]"
     ]
    },
    {
     "name": "stdout",
     "output_type": "stream",
     "text": [
      "2022-11-03 12:59:16,563 Corpus contains the labels: label_topic (#2801)\n",
      "2022-11-03 12:59:16,566 Created (for label 'label_topic') Dictionary with 3 tags: <unk>, offensive, non_offensive\n"
     ]
    },
    {
     "name": "stderr",
     "output_type": "stream",
     "text": [
      "\n"
     ]
    }
   ],
   "source": [
    "# Creating the Label Diction For FastText\n",
    "label_dict_fst = corpus_fst.make_label_dictionary(label_type='label_topic')"
   ]
  },
  {
   "cell_type": "code",
   "execution_count": 19,
   "id": "237b74b0",
   "metadata": {},
   "outputs": [],
   "source": [
    "# Working with the Word Embeddings\n",
    "from flair.embeddings import FlairEmbeddings, WordEmbeddings, StackedEmbeddings, DocumentLSTMEmbeddings, DocumentRNNEmbeddings"
   ]
  },
  {
   "cell_type": "code",
   "execution_count": 20,
   "id": "cef398e2",
   "metadata": {},
   "outputs": [],
   "source": [
    "# Create our WEmbeddings\n",
    "word_embeddings = [FlairEmbeddings('news-forward-fast'),FlairEmbeddings('news-backward-fast')]"
   ]
  },
  {
   "cell_type": "code",
   "execution_count": 21,
   "id": "5fc532b8",
   "metadata": {},
   "outputs": [],
   "source": [
    "# Document Embeddings\n",
    "document_embeddings = DocumentRNNEmbeddings(word_embeddings,hidden_size=512,reproject_words=True,reproject_words_dimension=256)"
   ]
  },
  {
   "cell_type": "code",
   "execution_count": 22,
   "id": "3c81deb4",
   "metadata": {},
   "outputs": [],
   "source": [
    "# Load NLP Pkgs\n",
    "from flair.models import TextClassifier\n",
    "from flair.trainers import ModelTrainer"
   ]
  },
  {
   "cell_type": "code",
   "execution_count": 23,
   "id": "e314e210",
   "metadata": {},
   "outputs": [],
   "source": [
    "# Classifier with CSV dataset\n",
    "clf = TextClassifier(document_embeddings, label_dictionary=label_dict_csv, label_type='label_topic')"
   ]
  },
  {
   "cell_type": "code",
   "execution_count": 24,
   "id": "e4718b7c",
   "metadata": {},
   "outputs": [],
   "source": [
    "# Classifier with FastText Format\n",
    "clf2 = TextClassifier(document_embeddings, label_dictionary=label_dict_fst, label_type='label_topic')"
   ]
  },
  {
   "cell_type": "code",
   "execution_count": 25,
   "id": "2c01ce06",
   "metadata": {},
   "outputs": [],
   "source": [
    "# Training\n",
    "# Init\n",
    "trainer = ModelTrainer(clf2, corpus_fst)"
   ]
  },
  {
   "cell_type": "code",
   "execution_count": 26,
   "id": "547e036a",
   "metadata": {
    "scrolled": true
   },
   "outputs": [
    {
     "name": "stdout",
     "output_type": "stream",
     "text": [
      "2022-11-03 12:59:20,558 ----------------------------------------------------------------------------------------------------\n",
      "2022-11-03 12:59:20,560 Model: \"TextClassifier(\n",
      "  (loss_function): CrossEntropyLoss()\n",
      "  (document_embeddings): DocumentRNNEmbeddings(\n",
      "    (embeddings): StackedEmbeddings(\n",
      "      (list_embedding_0): FlairEmbeddings(\n",
      "        (lm): LanguageModel(\n",
      "          (drop): Dropout(p=0.25, inplace=False)\n",
      "          (encoder): Embedding(275, 100)\n",
      "          (rnn): LSTM(100, 1024)\n",
      "          (decoder): Linear(in_features=1024, out_features=275, bias=True)\n",
      "        )\n",
      "      )\n",
      "      (list_embedding_1): FlairEmbeddings(\n",
      "        (lm): LanguageModel(\n",
      "          (drop): Dropout(p=0.25, inplace=False)\n",
      "          (encoder): Embedding(275, 100)\n",
      "          (rnn): LSTM(100, 1024)\n",
      "          (decoder): Linear(in_features=1024, out_features=275, bias=True)\n",
      "        )\n",
      "      )\n",
      "    )\n",
      "    (word_reprojection_map): Linear(in_features=2048, out_features=256, bias=True)\n",
      "    (rnn): GRU(256, 512, batch_first=True)\n",
      "    (dropout): Dropout(p=0.5, inplace=False)\n",
      "  )\n",
      "  (decoder): Linear(in_features=512, out_features=3, bias=True)\n",
      "  (weights): None\n",
      "  (weight_tensor) None\n",
      ")\"\n",
      "2022-11-03 12:59:20,591 ----------------------------------------------------------------------------------------------------\n",
      "2022-11-03 12:59:20,593 Corpus: \"Corpus: 2801 train + 935 dev + 932 test sentences\"\n",
      "2022-11-03 12:59:20,595 ----------------------------------------------------------------------------------------------------\n",
      "2022-11-03 12:59:20,597 Parameters:\n",
      "2022-11-03 12:59:20,598  - learning_rate: \"0.1\"\n",
      "2022-11-03 12:59:20,603  - mini_batch_size: \"32\"\n",
      "2022-11-03 12:59:20,606  - patience: \"3\"\n",
      "2022-11-03 12:59:20,608  - anneal_factor: \"0.5\"\n",
      "2022-11-03 12:59:20,610  - max_epochs: \"2\"\n",
      "2022-11-03 12:59:20,612  - shuffle: \"True\"\n",
      "2022-11-03 12:59:20,615  - train_with_dev: \"False\"\n",
      "2022-11-03 12:59:20,619  - batch_growth_annealing: \"False\"\n",
      "2022-11-03 12:59:20,622 ----------------------------------------------------------------------------------------------------\n",
      "2022-11-03 12:59:20,625 Model training base path: \"data_fst\"\n",
      "2022-11-03 12:59:20,628 ----------------------------------------------------------------------------------------------------\n",
      "2022-11-03 12:59:20,631 Device: cpu\n",
      "2022-11-03 12:59:20,634 ----------------------------------------------------------------------------------------------------\n",
      "2022-11-03 12:59:20,637 Embeddings storage mode: cpu\n",
      "2022-11-03 12:59:20,643 ----------------------------------------------------------------------------------------------------\n"
     ]
    },
    {
     "name": "stderr",
     "output_type": "stream",
     "text": [
      "c:\\users\\milind.desktop-gbr1bs2\\appdata\\local\\programs\\python\\python38\\lib\\site-packages\\torch\\utils\\data\\dataloader.py:487: UserWarning: This DataLoader will create 6 worker processes in total. Our suggested max number of worker in current system is 4 (`cpuset` is not taken into account), which is smaller than what this DataLoader is going to create. Please be aware that excessive worker creation might get DataLoader running slow or even freeze, lower the worker number to avoid potential slowness/freeze if necessary.\n",
      "  warnings.warn(_create_warning_msg(\n"
     ]
    },
    {
     "name": "stdout",
     "output_type": "stream",
     "text": [
      "2022-11-03 13:00:48,806 epoch 1 - iter 8/88 - loss 0.01925580 - samples/sec: 8.77 - lr: 0.100000\n",
      "2022-11-03 13:01:16,187 epoch 1 - iter 16/88 - loss 0.01703913 - samples/sec: 9.37 - lr: 0.100000\n",
      "2022-11-03 13:01:58,756 epoch 1 - iter 24/88 - loss 0.01633629 - samples/sec: 6.02 - lr: 0.100000\n",
      "2022-11-03 13:02:31,567 epoch 1 - iter 32/88 - loss 0.01639149 - samples/sec: 7.81 - lr: 0.100000\n",
      "2022-11-03 13:03:00,881 epoch 1 - iter 40/88 - loss 0.01651442 - samples/sec: 8.75 - lr: 0.100000\n",
      "2022-11-03 13:03:31,703 epoch 1 - iter 48/88 - loss 0.01633045 - samples/sec: 8.32 - lr: 0.100000\n",
      "2022-11-03 13:03:53,686 epoch 1 - iter 56/88 - loss 0.01575028 - samples/sec: 11.66 - lr: 0.100000\n",
      "2022-11-03 13:04:20,957 epoch 1 - iter 64/88 - loss 0.01558724 - samples/sec: 9.40 - lr: 0.100000\n",
      "2022-11-03 13:04:48,219 epoch 1 - iter 72/88 - loss 0.01535619 - samples/sec: 9.61 - lr: 0.100000\n",
      "2022-11-03 13:05:11,588 epoch 1 - iter 80/88 - loss 0.01536067 - samples/sec: 10.97 - lr: 0.100000\n",
      "2022-11-03 13:05:32,941 epoch 1 - iter 88/88 - loss 0.01519224 - samples/sec: 12.00 - lr: 0.100000\n",
      "2022-11-03 13:05:34,525 ----------------------------------------------------------------------------------------------------\n",
      "2022-11-03 13:05:34,527 EPOCH 1 done: loss 0.0152 - lr 0.1000000\n",
      "2022-11-03 13:07:33,046 DEV : loss 0.014456345699727535 - f1-score (micro avg)  0.8182\n",
      "2022-11-03 13:07:34,060 BAD EPOCHS (no improvement): 0\n",
      "2022-11-03 13:07:34,062 saving best model\n",
      "2022-11-03 13:07:34,291 ----------------------------------------------------------------------------------------------------\n"
     ]
    },
    {
     "name": "stderr",
     "output_type": "stream",
     "text": [
      "c:\\users\\milind.desktop-gbr1bs2\\appdata\\local\\programs\\python\\python38\\lib\\site-packages\\torch\\utils\\data\\dataloader.py:487: UserWarning: This DataLoader will create 6 worker processes in total. Our suggested max number of worker in current system is 4 (`cpuset` is not taken into account), which is smaller than what this DataLoader is going to create. Please be aware that excessive worker creation might get DataLoader running slow or even freeze, lower the worker number to avoid potential slowness/freeze if necessary.\n",
      "  warnings.warn(_create_warning_msg(\n"
     ]
    },
    {
     "name": "stdout",
     "output_type": "stream",
     "text": [
      "2022-11-03 13:08:53,330 epoch 2 - iter 8/88 - loss 0.01488673 - samples/sec: 10.99 - lr: 0.100000\n",
      "2022-11-03 13:09:14,721 epoch 2 - iter 16/88 - loss 0.01482444 - samples/sec: 11.98 - lr: 0.100000\n",
      "2022-11-03 13:09:36,065 epoch 2 - iter 24/88 - loss 0.01451043 - samples/sec: 12.02 - lr: 0.100000\n",
      "2022-11-03 13:10:01,906 epoch 2 - iter 32/88 - loss 0.01463183 - samples/sec: 9.92 - lr: 0.100000\n",
      "2022-11-03 13:10:26,730 epoch 2 - iter 40/88 - loss 0.01461590 - samples/sec: 10.33 - lr: 0.100000\n",
      "2022-11-03 13:10:49,840 epoch 2 - iter 48/88 - loss 0.01433767 - samples/sec: 11.10 - lr: 0.100000\n",
      "2022-11-03 13:11:13,064 epoch 2 - iter 56/88 - loss 0.01395431 - samples/sec: 11.04 - lr: 0.100000\n",
      "2022-11-03 13:11:35,199 epoch 2 - iter 64/88 - loss 0.01382092 - samples/sec: 11.59 - lr: 0.100000\n",
      "2022-11-03 13:12:01,034 epoch 2 - iter 72/88 - loss 0.01362971 - samples/sec: 9.93 - lr: 0.100000\n",
      "2022-11-03 13:12:24,143 epoch 2 - iter 80/88 - loss 0.01350738 - samples/sec: 11.09 - lr: 0.100000\n",
      "2022-11-03 13:12:44,469 epoch 2 - iter 88/88 - loss 0.01361734 - samples/sec: 12.62 - lr: 0.100000\n",
      "2022-11-03 13:12:46,029 ----------------------------------------------------------------------------------------------------\n",
      "2022-11-03 13:12:46,031 EPOCH 2 done: loss 0.0136 - lr 0.1000000\n",
      "2022-11-03 13:14:44,636 DEV : loss 0.017251277342438698 - f1-score (micro avg)  0.8182\n",
      "2022-11-03 13:14:45,201 BAD EPOCHS (no improvement): 1\n",
      "2022-11-03 13:14:45,313 ----------------------------------------------------------------------------------------------------\n",
      "2022-11-03 13:14:45,316 loading file data_fst\\best-model.pt\n"
     ]
    },
    {
     "name": "stderr",
     "output_type": "stream",
     "text": [
      "c:\\users\\milind.desktop-gbr1bs2\\appdata\\local\\programs\\python\\python38\\lib\\site-packages\\torch\\utils\\data\\dataloader.py:487: UserWarning: This DataLoader will create 6 worker processes in total. Our suggested max number of worker in current system is 4 (`cpuset` is not taken into account), which is smaller than what this DataLoader is going to create. Please be aware that excessive worker creation might get DataLoader running slow or even freeze, lower the worker number to avoid potential slowness/freeze if necessary.\n",
      "  warnings.warn(_create_warning_msg(\n"
     ]
    },
    {
     "name": "stdout",
     "output_type": "stream",
     "text": [
      "2022-11-03 13:16:40,616 0.8283\t0.8283\t0.8283\t0.8283\n",
      "2022-11-03 13:16:40,619 \n",
      "Results:\n",
      "- F-score (micro) 0.8283\n",
      "- F-score (macro) 0.4531\n",
      "- Accuracy 0.8283\n",
      "\n",
      "By class:\n",
      "               precision    recall  f1-score   support\n",
      "\n",
      "    offensive     0.8283    1.0000    0.9061       772\n",
      "non_offensive     0.0000    0.0000    0.0000       160\n",
      "\n",
      "    micro avg     0.8283    0.8283    0.8283       932\n",
      "    macro avg     0.4142    0.5000    0.4531       932\n",
      " weighted avg     0.6861    0.8283    0.7505       932\n",
      "  samples avg     0.8283    0.8283    0.8283       932\n",
      "\n",
      "2022-11-03 13:16:40,620 ----------------------------------------------------------------------------------------------------\n"
     ]
    },
    {
     "data": {
      "text/plain": [
       "{'test_score': 0.8283261802575107,\n",
       " 'dev_score_history': [0.8181818181818182, 0.8181818181818182],\n",
       " 'train_loss_history': [0.015192236558470034, 0.013617342586008321],\n",
       " 'dev_loss_history': [tensor(0.0145), tensor(0.0173)]}"
      ]
     },
     "execution_count": 26,
     "metadata": {},
     "output_type": "execute_result"
    }
   ],
   "source": [
    "# Fit/Training with Dataset\n",
    "trainer.train('data_fst/',max_epochs=2)"
   ]
  },
  {
   "cell_type": "code",
   "execution_count": 27,
   "id": "e8158089",
   "metadata": {
    "scrolled": true
   },
   "outputs": [
    {
     "name": "stdout",
     "output_type": "stream",
     "text": [
      "2022-11-03 13:16:40,649 loading file data_fst/final-model.pt\n"
     ]
    }
   ],
   "source": [
    "# Making Prediciton\n",
    "# Load Saved Model and Predict\n",
    "new_clf = TextClassifier.load('data_fst/final-model.pt')"
   ]
  },
  {
   "cell_type": "code",
   "execution_count": 28,
   "id": "8e460bec",
   "metadata": {},
   "outputs": [],
   "source": [
    "from flair.data import Sentence"
   ]
  },
  {
   "cell_type": "code",
   "execution_count": 29,
   "id": "6d499d85",
   "metadata": {},
   "outputs": [],
   "source": [
    "# Sample Sentence\n",
    "ex1 = Sentence(\"That person is a bad person\")\n",
    "ex2 = Sentence(\"This is a good material\")"
   ]
  },
  {
   "cell_type": "code",
   "execution_count": 30,
   "id": "dc6cc1f3",
   "metadata": {},
   "outputs": [
    {
     "data": {
      "text/plain": [
       "[offensive (0.9202)]"
      ]
     },
     "execution_count": 30,
     "metadata": {},
     "output_type": "execute_result"
    }
   ],
   "source": [
    "# Apply our model\n",
    "new_clf.predict(ex1)\n",
    "ex1.labels"
   ]
  },
  {
   "cell_type": "code",
   "execution_count": 31,
   "id": "3a614ee3",
   "metadata": {},
   "outputs": [
    {
     "data": {
      "text/plain": [
       "[offensive (0.7947)]"
      ]
     },
     "execution_count": 31,
     "metadata": {},
     "output_type": "execute_result"
    }
   ],
   "source": [
    "new_clf.predict(ex2)\n",
    "ex2.labels"
   ]
  }
 ],
 "metadata": {
  "kernelspec": {
   "display_name": "Python 3",
   "language": "python",
   "name": "python3"
  },
  "language_info": {
   "codemirror_mode": {
    "name": "ipython",
    "version": 3
   },
   "file_extension": ".py",
   "mimetype": "text/x-python",
   "name": "python",
   "nbconvert_exporter": "python",
   "pygments_lexer": "ipython3",
   "version": "3.8.6"
  }
 },
 "nbformat": 4,
 "nbformat_minor": 5
}
