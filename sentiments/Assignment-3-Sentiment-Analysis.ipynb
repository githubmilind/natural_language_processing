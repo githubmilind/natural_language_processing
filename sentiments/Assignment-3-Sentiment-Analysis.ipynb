{
 "cells": [
  {
   "cell_type": "markdown",
   "id": "a9882b10",
   "metadata": {},
   "source": [
    "<b>TextBlob & Vader</b>"
   ]
  },
  {
   "cell_type": "code",
   "execution_count": 1,
   "id": "de5c3d28",
   "metadata": {},
   "outputs": [],
   "source": [
    "import os\n",
    "from textblob import TextBlob\n",
    "from textblob import Word\n",
    "from vaderSentiment.vaderSentiment import SentimentIntensityAnalyzer\n",
    "import matplotlib.pyplot as plt\n",
    "from matplotlib.pyplot import figure"
   ]
  },
  {
   "cell_type": "code",
   "execution_count": 2,
   "id": "0a592a5c",
   "metadata": {},
   "outputs": [],
   "source": [
    "text = TextBlob(\"TextBlob is a simple library to build sentiment analysis\")"
   ]
  },
  {
   "cell_type": "markdown",
   "id": "76da3980",
   "metadata": {},
   "source": [
    "<b>TextBlob features - Part-of-speech Tagging</b>"
   ]
  },
  {
   "cell_type": "code",
   "execution_count": 3,
   "id": "4450a3ff",
   "metadata": {},
   "outputs": [
    {
     "data": {
      "text/plain": [
       "[('TextBlob', 'NNP'),\n",
       " ('is', 'VBZ'),\n",
       " ('a', 'DT'),\n",
       " ('simple', 'JJ'),\n",
       " ('library', 'NN'),\n",
       " ('to', 'TO'),\n",
       " ('build', 'VB'),\n",
       " ('sentiment', 'NN'),\n",
       " ('analysis', 'NN')]"
      ]
     },
     "execution_count": 3,
     "metadata": {},
     "output_type": "execute_result"
    }
   ],
   "source": [
    "text.tags"
   ]
  },
  {
   "cell_type": "markdown",
   "id": "282ca522",
   "metadata": {},
   "source": [
    "<b>TextBlob features - Noun Phrase Extraction</b>"
   ]
  },
  {
   "cell_type": "code",
   "execution_count": 4,
   "id": "c068d9eb",
   "metadata": {},
   "outputs": [
    {
     "data": {
      "text/plain": [
       "WordList(['textblob', 'simple library', 'sentiment analysis'])"
      ]
     },
     "execution_count": 4,
     "metadata": {},
     "output_type": "execute_result"
    }
   ],
   "source": [
    "text.noun_phrases"
   ]
  },
  {
   "cell_type": "markdown",
   "id": "27410c7e",
   "metadata": {},
   "source": [
    "<b>TextBlob features - Sentiment Analysis</b>"
   ]
  },
  {
   "cell_type": "code",
   "execution_count": 5,
   "id": "5cbf34a1",
   "metadata": {},
   "outputs": [
    {
     "data": {
      "text/plain": [
       "Sentiment(polarity=0.0, subjectivity=0.35714285714285715)"
      ]
     },
     "execution_count": 5,
     "metadata": {},
     "output_type": "execute_result"
    }
   ],
   "source": [
    "text.sentiment"
   ]
  },
  {
   "cell_type": "markdown",
   "id": "dde9367c",
   "metadata": {},
   "source": [
    "<b>TextBlob features - Words Inflection and Lemmatization</b>"
   ]
  },
  {
   "cell_type": "code",
   "execution_count": 6,
   "id": "71f4a30d",
   "metadata": {},
   "outputs": [
    {
     "data": {
      "text/plain": [
       "WordList(['TextBlob', 'is', 'a', 'simple', 'library', 'to', 'build', 'sentiment', 'analysis'])"
      ]
     },
     "execution_count": 6,
     "metadata": {},
     "output_type": "execute_result"
    }
   ],
   "source": [
    "text.words"
   ]
  },
  {
   "cell_type": "code",
   "execution_count": 7,
   "id": "b60c9fd5",
   "metadata": {},
   "outputs": [
    {
     "data": {
      "text/plain": [
       "'go'"
      ]
     },
     "execution_count": 7,
     "metadata": {},
     "output_type": "execute_result"
    }
   ],
   "source": [
    "w = Word(\"went\")\n",
    "w.lemmatize(\"v\") "
   ]
  },
  {
   "cell_type": "markdown",
   "id": "5cec029a",
   "metadata": {},
   "source": [
    "<b>TextBlob features - Spelling Correction</b>"
   ]
  },
  {
   "cell_type": "code",
   "execution_count": 8,
   "id": "9734f976",
   "metadata": {},
   "outputs": [
    {
     "name": "stdout",
     "output_type": "stream",
     "text": [
      "textbook simple liberty for analyse\n"
     ]
    }
   ],
   "source": [
    "sentence = TextBlob(\"textblob simple libry for analyse\")\n",
    "print(sentence.correct())"
   ]
  },
  {
   "cell_type": "markdown",
   "id": "13c370fc",
   "metadata": {},
   "source": [
    "<b>------------------------------------------------------------------------------------------------------------------</b>"
   ]
  },
  {
   "cell_type": "markdown",
   "id": "208514e2",
   "metadata": {},
   "source": [
    "<b>Vader</b>"
   ]
  },
  {
   "cell_type": "code",
   "execution_count": 9,
   "id": "b35a1941",
   "metadata": {},
   "outputs": [],
   "source": [
    "analyser = SentimentIntensityAnalyzer()"
   ]
  },
  {
   "cell_type": "markdown",
   "id": "952a16b1",
   "metadata": {},
   "source": [
    "<b>Vader - sentiment analysis</b>"
   ]
  },
  {
   "cell_type": "code",
   "execution_count": 10,
   "id": "968da067",
   "metadata": {},
   "outputs": [
    {
     "name": "stdout",
     "output_type": "stream",
     "text": [
      "{'neg': 0.0, 'neu': 0.326, 'pos': 0.674, 'compound': 0.7351}\n"
     ]
    }
   ],
   "source": [
    "print(analyser.polarity_scores('The phone is super cool.'))"
   ]
  },
  {
   "cell_type": "markdown",
   "id": "30a49e54",
   "metadata": {},
   "source": [
    "<b>Vader - sentiment analysis - punchuation </b>"
   ]
  },
  {
   "cell_type": "code",
   "execution_count": 11,
   "id": "048e0166",
   "metadata": {},
   "outputs": [
    {
     "name": "stdout",
     "output_type": "stream",
     "text": [
      "{'neg': 0.0, 'neu': 0.556, 'pos': 0.444, 'compound': 0.4926}\n",
      "{'neg': 0.0, 'neu': 0.534, 'pos': 0.466, 'compound': 0.5399}\n",
      "{'neg': 0.0, 'neu': 0.514, 'pos': 0.486, 'compound': 0.5826}\n"
     ]
    }
   ],
   "source": [
    "print(analyser.polarity_scores('The food here is good!'))\n",
    "print(analyser.polarity_scores('The food here is good!!'))\n",
    "print(analyser.polarity_scores('The food here is good!!!'))"
   ]
  },
  {
   "cell_type": "markdown",
   "id": "90ddea68",
   "metadata": {},
   "source": [
    "<b>Vader - sentiment analysis - capitalization </b>"
   ]
  },
  {
   "cell_type": "code",
   "execution_count": 12,
   "id": "fa4ee285",
   "metadata": {},
   "outputs": [
    {
     "name": "stdout",
     "output_type": "stream",
     "text": [
      "{'neg': 0.0, 'neu': 0.477, 'pos': 0.523, 'compound': 0.6588}\n",
      "{'neg': 0.0, 'neu': 0.438, 'pos': 0.562, 'compound': 0.729}\n"
     ]
    }
   ],
   "source": [
    "print(analyser.polarity_scores('The food here is great!'))\n",
    "print(analyser.polarity_scores('The food here is GREAT!'))"
   ]
  },
  {
   "cell_type": "markdown",
   "id": "8855242d",
   "metadata": {},
   "source": [
    "<b>Vader - sentiment analysis - Degree modifiers </b>"
   ]
  },
  {
   "cell_type": "code",
   "execution_count": 13,
   "id": "3270ddd1",
   "metadata": {},
   "outputs": [
    {
     "name": "stdout",
     "output_type": "stream",
     "text": [
      "{'neg': 0.0, 'neu': 0.633, 'pos': 0.367, 'compound': 0.4404}\n",
      "{'neg': 0.0, 'neu': 0.657, 'pos': 0.343, 'compound': 0.3832}\n"
     ]
    }
   ],
   "source": [
    "print(analyser.polarity_scores('The food here is extreamly good.'))\n",
    "print(analyser.polarity_scores('The food here is marginally good.'))"
   ]
  },
  {
   "cell_type": "markdown",
   "id": "35f7d680",
   "metadata": {},
   "source": [
    "<b>Vader - sentiment analysis - emojies, slags and emoticons </b>"
   ]
  },
  {
   "cell_type": "code",
   "execution_count": 14,
   "id": "2a475e6b",
   "metadata": {},
   "outputs": [
    {
     "name": "stdout",
     "output_type": "stream",
     "text": [
      "{'neg': 0.0, 'neu': 0.522, 'pos': 0.478, 'compound': 0.6705}\n"
     ]
    }
   ],
   "source": [
    "print(analyser.polarity_scores('I am 😄 today'))"
   ]
  },
  {
   "cell_type": "code",
   "execution_count": 15,
   "id": "305619e8",
   "metadata": {},
   "outputs": [
    {
     "name": "stdout",
     "output_type": "stream",
     "text": [
      "{'neg': 0.0, 'neu': 0.294, 'pos': 0.706, 'compound': 0.8633}\n"
     ]
    }
   ],
   "source": [
    "print(analyser.polarity_scores(\"Make sure you :) or :D today!\"))"
   ]
  },
  {
   "cell_type": "markdown",
   "id": "1c01ec7c",
   "metadata": {},
   "source": [
    "<b>------------------------------------------------------------------------------------------------------------------</b>"
   ]
  },
  {
   "cell_type": "markdown",
   "id": "31ba16b5",
   "metadata": {},
   "source": [
    "<b>COMPARISON - compaire given text data with TextBlob abd Vader</b>"
   ]
  },
  {
   "cell_type": "code",
   "execution_count": 16,
   "id": "9995904c",
   "metadata": {},
   "outputs": [],
   "source": [
    "postive_folder = 'txt_sentoken/pos'\n",
    "negative_folder = 'txt_sentoken/neg'"
   ]
  },
  {
   "cell_type": "markdown",
   "id": "0faffb57",
   "metadata": {},
   "source": [
    "<b>Process POSITIVE sentiment samples</b>"
   ]
  },
  {
   "cell_type": "code",
   "execution_count": 17,
   "id": "908bfc8c",
   "metadata": {},
   "outputs": [],
   "source": [
    "txt_blb_scores = []\n",
    "vader_scores = []\n",
    "\n",
    "for filename in os.listdir(postive_folder):\n",
    "    with open(os.path.join(postive_folder, filename), 'r') as f:\n",
    "        txt = f.read()\n",
    "        txt_blb_score = TextBlob(txt)\n",
    "        vader_score = analyser.polarity_scores(txt)\n",
    "        txt_blb_scores.append(txt_blb_score.polarity)\n",
    "        vader_scores.append(vader_score['compound'])"
   ]
  },
  {
   "cell_type": "code",
   "execution_count": 22,
   "id": "79b11a3e",
   "metadata": {},
   "outputs": [
    {
     "data": {
      "image/png": "[encoded data removed]",
      "text/plain": [
       "<Figure size 432x288 with 1 Axes>"
      ]
     },
     "metadata": {
      "needs_background": "light"
     },
     "output_type": "display_data"
    },
    {
     "data": {
      "text/plain": [
       "<Figure size 432x288 with 0 Axes>"
      ]
     },
     "metadata": {},
     "output_type": "display_data"
    }
   ],
   "source": [
    "y = list(range(0, len(txt_blb_scores)))\n",
    "\n",
    "plt.title(\"Positive labeled data\")\n",
    "    \n",
    "plt.scatter(txt_blb_scores, y, label = 'TextBlob')\n",
    "\n",
    "plt.scatter(vader_scores, y,  label = 'Vader')\n",
    "\n",
    "plt.legend(loc=\"upper left\")\n",
    "\n",
    "f = plt.figure()\n",
    "\n",
    "plt.show()"
   ]
  },
  {
   "cell_type": "markdown",
   "id": "1671cb36",
   "metadata": {},
   "source": [
    "<b>Process NEGATIVE sentiment samples</b>"
   ]
  },
  {
   "cell_type": "code",
   "execution_count": 19,
   "id": "61595a30",
   "metadata": {},
   "outputs": [],
   "source": [
    "txt_blb_scores_n = []\n",
    "vader_scores_n = []\n",
    "\n",
    "for filename in os.listdir(negative_folder):\n",
    "    with open(os.path.join(negative_folder, filename), 'r') as f:\n",
    "        txt = f.read()\n",
    "        txt_blb_score = TextBlob(txt)\n",
    "        vader_score = analyser.polarity_scores(txt)\n",
    "        txt_blb_scores_n.append(txt_blb_score.polarity)\n",
    "        vader_scores_n.append(vader_score['compound'])"
   ]
  },
  {
   "cell_type": "code",
   "execution_count": 21,
   "id": "e141ed86",
   "metadata": {},
   "outputs": [
    {
     "data": {
      "image/png": "[encoded data removed]",
      "text/plain": [
       "<Figure size 432x288 with 1 Axes>"
      ]
     },
     "metadata": {
      "needs_background": "light"
     },
     "output_type": "display_data"
    }
   ],
   "source": [
    "y = list(range(0, len(txt_blb_scores)))\n",
    "\n",
    "plt.title(\"Negative labeled data\")\n",
    "    \n",
    "plt.scatter(txt_blb_scores_n, y, label = 'TextBlob')\n",
    "\n",
    "plt.scatter(vader_scores_n, y,  label = 'Vader')\n",
    "\n",
    "plt.legend(loc=\"upper left\")\n",
    "\n",
    "plt.show()"
   ]
  }
 ],
 "metadata": {
  "kernelspec": {
   "display_name": "Python 3",
   "language": "python",
   "name": "python3"
  },
  "language_info": {
   "codemirror_mode": {
    "name": "ipython",
    "version": 3
   },
   "file_extension": ".py",
   "mimetype": "text/x-python",
   "name": "python",
   "nbconvert_exporter": "python",
   "pygments_lexer": "ipython3",
   "version": "3.8.6"
  }
 },
 "nbformat": 4,
 "nbformat_minor": 5
}
