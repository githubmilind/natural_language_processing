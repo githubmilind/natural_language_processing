{
 "cells": [
  {
   "cell_type": "markdown",
   "id": "93797e6c",
   "metadata": {},
   "source": [
    "https://www.analyticsvidhya.com/blog/2021/11/autocorrect-feature-using-nlp-in-python/"
   ]
  },
  {
   "cell_type": "code",
   "execution_count": 1,
   "id": "bd5ee099",
   "metadata": {},
   "outputs": [
    {
     "name": "stdout",
     "output_type": "stream",
     "text": [
      "Collecting textdistance\n",
      "  Downloading textdistance-4.2.2-py3-none-any.whl (28 kB)\n",
      "Installing collected packages: textdistance\n",
      "Successfully installed textdistance-4.2.2\n"
     ]
    },
    {
     "name": "stderr",
     "output_type": "stream",
     "text": [
      "WARNING: You are using pip version 21.3.1; however, version 22.1 is available.\n",
      "You should consider upgrading via the 'c:\\users\\milind.desktop-gbr1bs2\\appdata\\local\\programs\\python\\python38\\python.exe -m pip install --upgrade pip' command.\n"
     ]
    }
   ],
   "source": [
    "!pip install textdistance"
   ]
  },
  {
   "cell_type": "code",
   "execution_count": 15,
   "id": "75b4a44f",
   "metadata": {},
   "outputs": [
    {
     "name": "stdout",
     "output_type": "stream",
     "text": [
      "Top ten words in the text are:  ['w', 'w', 'w', 'w', 'w', 'w', 'www', 'w', 'w', 'w']\n",
      "Total Unique words are:  2\n"
     ]
    }
   ],
   "source": [
    "import pandas as pd\n",
    "import numpy as np\n",
    "import textdistance\n",
    "import re\n",
    "from collections import Counter\n",
    "words = []\n",
    "with open('book.txt', 'r', encoding=\"utf8\") as f:\n",
    "    file_name_data = f.read()\n",
    "    #print(file_name_data)\n",
    "    file_name_data=file_name_data.lower()\n",
    "    #print(file_name_data)\n",
    "    words = re.findall('w+',file_name_data)\n",
    "# This is our vocabulary\n",
    "V = set(words)\n",
    "print(\"Top ten words in the text are: \", words[0:10])\n",
    "print(\"Total Unique words are: \", len(V))"
   ]
  }
 ],
 "metadata": {
  "kernelspec": {
   "display_name": "Python 3",
   "language": "python",
   "name": "python3"
  },
  "language_info": {
   "codemirror_mode": {
    "name": "ipython",
    "version": 3
   },
   "file_extension": ".py",
   "mimetype": "text/x-python",
   "name": "python",
   "nbconvert_exporter": "python",
   "pygments_lexer": "ipython3",
   "version": "3.8.6"
  }
 },
 "nbformat": 4,
 "nbformat_minor": 5
}
